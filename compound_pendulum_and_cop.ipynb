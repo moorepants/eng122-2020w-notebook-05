{
 "cells": [
  {
   "cell_type": "markdown",
   "metadata": {},
   "source": [
    "# Compound Pendulum and Center of Percussion\n",
    "\n",
    "At this point we have figured out the moment of inertia about any radial axis that passes through the center of the wheel. We would also like to find the moment of inertia about the wheel's axle, the *spin moment of inertia*. This moment of interia affects how fast the bicycle wheel can be acelerated and decelerated. We could potentally hang the bicycle wheel on the torsion rod such that the axle's axis aligns with the torsion bar's axis. But there is a simpler way that only requires a fulcrum point and gravity to act as our (constant force) \"spring\". The video below shows a children's bicycle wheel hanging by the inner diameter of the rim on a small circular rod and a angular velocity gyro is attached to the wheel with it's measurement axis align with the wheel's axle. This arrangement is called a [*compound pendulum*](https://en.wikipedia.org/wiki/Pendulum#Compound_pendulum). A compound pendulum is any single degree of freedom pendulum in whch the swinging portion can be considered a [*rigid body*](https://en.wikipedia.org/wiki/Rigid_body)."
   ]
  },
  {
   "cell_type": "code",
   "execution_count": null,
   "metadata": {},
   "outputs": [],
   "source": [
    "from IPython.display import YouTubeVideo\n",
    "YouTubeVideo('D2tSoGqhtx0', width=640, height=480)"
   ]
  },
  {
   "cell_type": "markdown",
   "metadata": {},
   "source": [
    "The figure below shows a free body diagram of a compound pendulum. In our case the wheel is the rigid body and the revolute joint is the fulcrum.\n",
    "\n",
    "![](bicycle-wheel-axial-inertia-measurement-fbd.png)"
   ]
  },
  {
   "cell_type": "markdown",
   "metadata": {},
   "source": [
    "The data from the measurement of the same full sized bicycle wheel from the previous analysis can be loaded with:"
   ]
  },
  {
   "cell_type": "code",
   "execution_count": null,
   "metadata": {},
   "outputs": [],
   "source": [
    "import pandas as pd"
   ]
  },
  {
   "cell_type": "code",
   "execution_count": null,
   "metadata": {},
   "outputs": [],
   "source": [
    "axial_gyro_meas = pd.read_csv('bicycle-wheel-axial-inertia-rate-gyro-measurement.csv',\n",
    "                              index_col='time')"
   ]
  },
  {
   "cell_type": "code",
   "execution_count": null,
   "metadata": {},
   "outputs": [],
   "source": [
    "axial_gyro_meas.head()"
   ]
  },
  {
   "cell_type": "code",
   "execution_count": null,
   "metadata": {},
   "outputs": [],
   "source": [
    "axial_gyro_meas.plot(style='.');"
   ]
  },
  {
   "cell_type": "markdown",
   "metadata": {},
   "source": [
    "Note that this measurement has much less damping than the torsional pendulum. Once again our goal is to determine what the moment of the inertia of the bicycle wheel is. We can use a `CompoundPendulumSystem` to simulate this motion:"
   ]
  },
  {
   "cell_type": "code",
   "execution_count": null,
   "metadata": {},
   "outputs": [],
   "source": [
    "from resonance.linear_systems import CompoundPendulumSystem"
   ]
  },
  {
   "cell_type": "code",
   "execution_count": null,
   "metadata": {},
   "outputs": [],
   "source": [
    "cpend_sys = CompoundPendulumSystem()"
   ]
  },
  {
   "cell_type": "markdown",
   "metadata": {},
   "source": [
    "The compound pendulum system has four constants:\n",
    "\n",
    "- `pendulum_mass`: mass of the rigid body being swung as a compound pendulum\n",
    "- `inertia_about_joint`: the moment of inertia about the fulcrum joint\n",
    "- `joint_to_mass_center`: the distance from the fulcrum joint to the mass center\n",
    "- `acc_due_to_gravity`: the acceleration due to gravity"
   ]
  },
  {
   "cell_type": "code",
   "execution_count": null,
   "metadata": {},
   "outputs": [],
   "source": [
    "cpend_sys.constants"
   ]
  },
  {
   "cell_type": "markdown",
   "metadata": {},
   "source": [
    "The mass and radius of the wheel is the same as above. You can get a rough estimate the rotational moment of inertia about the axle as:\n",
    "\n",
    "$$ I_c = m r^2 $$\n",
    "\n",
    "This assumes that all of the mass is concentrated in a thin ring at the outer most radius, which is not the best estimate but a reasonable value to start with.\n",
    "\n",
    "But the inertia about the joint has to be computed using the parallel axis theorem."
   ]
  },
  {
   "cell_type": "markdown",
   "metadata": {
    "solution2": "hidden",
    "solution2_first": true
   },
   "source": [
    "**Exercise**\n",
    "\n",
    "Using the [parallel axis thereom](https://en.wikipedia.org/wiki/Parallel_axis_theorem), compute an estimate of the inertia about the joint if the distance from the axle to the joint is 0.296 meters. Store both results in variables named `inertia_about_axle` and `inertia_about_joint`.\n",
    "\n",
    "The parrallel axis theorem states that the inertia about any point is equal to the inertia about the mass center plus the total mass times the square of the distance between the point and the mass cetner, i.e.:\n",
    "\n",
    "$$I_o = I_c + ml^2 $$\n",
    "\n",
    "- $I_o$ is the moment of inertia about a point $o$\n",
    "- $I_c$ is the moment of inertia about the mass center $c$\n",
    "- $m$ is the mass of the rigid body\n",
    "- $l$ is the distance from point c to point o\n",
    "\n",
    "The mass of the wheel in the video is 1.55 kg and the radius to the outer most portion of the tire is 0.336 m. The distance from the axle to the fulcrum is 0.296 m."
   ]
  },
  {
   "cell_type": "code",
   "execution_count": null,
   "metadata": {
    "jupyter": {
     "source_hidden": true
    },
    "solution2": "hidden"
   },
   "outputs": [],
   "source": [
    "mass = 1.55  # kg\n",
    "radius = 0.336  # m\n",
    "inertia_about_axle = mass * radius**2"
   ]
  },
  {
   "cell_type": "code",
   "execution_count": null,
   "metadata": {
    "solution2": "hidden"
   },
   "outputs": [],
   "source": [
    "inertia_about_axle"
   ]
  },
  {
   "cell_type": "code",
   "execution_count": null,
   "metadata": {
    "jupyter": {
     "source_hidden": true
    },
    "solution2": "hidden"
   },
   "outputs": [],
   "source": [
    "inertia_about_joint = inertia_about_axle + mass * 0.296**2"
   ]
  },
  {
   "cell_type": "code",
   "execution_count": null,
   "metadata": {
    "solution2": "hidden"
   },
   "outputs": [],
   "source": [
    "inertia_about_joint"
   ]
  },
  {
   "cell_type": "code",
   "execution_count": null,
   "metadata": {},
   "outputs": [],
   "source": [
    "# write your solution here"
   ]
  },
  {
   "cell_type": "markdown",
   "metadata": {},
   "source": [
    "Now simulate the pendulum with an initial angular velocity that is the same as measurement and see how well they match."
   ]
  },
  {
   "cell_type": "code",
   "execution_count": null,
   "metadata": {},
   "outputs": [],
   "source": [
    "cpend_sys.constants"
   ]
  },
  {
   "cell_type": "code",
   "execution_count": null,
   "metadata": {},
   "outputs": [],
   "source": [
    "cpend_sys.constants['acc_due_to_gravity'] = 9.81  # m/**2\n",
    "cpend_sys.constants['inertia_about_joint'] = inertia_about_joint  # kg m**2\n",
    "cpend_sys.constants['joint_to_mass_center'] = 0.296  # m\n",
    "cpend_sys.constants['pendulum_mass'] = 1.55  # kg"
   ]
  },
  {
   "cell_type": "code",
   "execution_count": null,
   "metadata": {},
   "outputs": [],
   "source": [
    "cpend_sys.speeds['angle_vel'] = axial_gyro_meas.loc[0.0]['angular_velocity']"
   ]
  },
  {
   "cell_type": "code",
   "execution_count": null,
   "metadata": {},
   "outputs": [],
   "source": [
    "trajectory = cpend_sys.free_response(5)"
   ]
  },
  {
   "cell_type": "code",
   "execution_count": null,
   "metadata": {},
   "outputs": [],
   "source": [
    "import matplotlib.pyplot as plt\n",
    "%matplotlib widget"
   ]
  },
  {
   "cell_type": "code",
   "execution_count": null,
   "metadata": {},
   "outputs": [],
   "source": [
    "fig, ax = plt.subplots(1, 1)\n",
    "ax.plot(axial_gyro_meas.index, axial_gyro_meas, '.')\n",
    "lines = ax.plot(trajectory.index, trajectory['angle_vel'])\n",
    "line = lines[0]\n",
    "\n",
    "def plot(inertia_about_joint=0.5):\n",
    "    cpend_sys.constants['inertia_about_joint'] = inertia_about_joint\n",
    "    traj = cpend_sys.free_response(5)\n",
    "    line.set_data(traj.index, traj['angle_vel'])"
   ]
  },
  {
   "cell_type": "code",
   "execution_count": null,
   "metadata": {},
   "outputs": [],
   "source": [
    "from ipywidgets import interact"
   ]
  },
  {
   "cell_type": "code",
   "execution_count": null,
   "metadata": {},
   "outputs": [],
   "source": [
    "interact(plot, inertia_about_joint=(0.0, 1.0, 0.001));"
   ]
  },
  {
   "cell_type": "markdown",
   "metadata": {
    "solution2": "hidden",
    "solution2_first": true
   },
   "source": [
    "**Exercise**\n",
    "\n",
    "Use your `decaying_sinusoid` function to find a best fit for this data."
   ]
  },
  {
   "cell_type": "code",
   "execution_count": null,
   "metadata": {},
   "outputs": [],
   "source": [
    "import numpy as np\n",
    "from scipy.optimize import curve_fit\n",
    "from utils import freq2period, period2freq, decaying_sinusoid"
   ]
  },
  {
   "cell_type": "code",
   "execution_count": null,
   "metadata": {},
   "outputs": [],
   "source": [
    "decaying_sinusoid?"
   ]
  },
  {
   "cell_type": "code",
   "execution_count": null,
   "metadata": {
    "jupyter": {
     "source_hidden": true
    },
    "solution2": "hidden"
   },
   "outputs": [],
   "source": [
    "popt, pcov = curve_fit(decaying_sinusoid,\n",
    "                       axial_gyro_meas.index,\n",
    "                       axial_gyro_meas.angular_velocity,\n",
    "                       p0=(0.6, -0.0002, 1.0 / 0.44 * np.pi * 2))\n",
    "\n",
    "ax = axial_gyro_meas.plot(style='.')\n",
    "ax.plot(axial_gyro_meas.index, decaying_sinusoid(axial_gyro_meas.index, *popt));"
   ]
  },
  {
   "cell_type": "code",
   "execution_count": null,
   "metadata": {},
   "outputs": [],
   "source": [
    "# write you answer here"
   ]
  },
  {
   "cell_type": "markdown",
   "metadata": {},
   "source": [
    "**Exercise**\n",
    "\n",
    "\n",
    "The equation of motion for a compound pendulum is:\n",
    "\n",
    "$$ I_o \\ddot{\\theta} + mgl\\sin\\theta = 0 $$\n",
    "\n",
    "For small motions, $\\sin\\theta\\approx\\theta$, thus a linearized equation of motion about $\\theta=0$ is:\n",
    "\n",
    "$$ I_o \\ddot{\\theta} + mgl\\theta = 0 $$\n",
    "\n",
    "If the equation of motion can also be written as:\n",
    "\n",
    "$$ \\ddot{\\theta} + \\omega_n^2 \\theta = 0$$\n",
    "\n",
    "Then then a relationship between the period of oscillation and the moment of inertia about the fulcrum joint can be determined.\n",
    "\n",
    "Write a function of $T$ to caculate $I_o$ based on the above linearized equation of motion and the canonical form which is written in terms of $\\omega_n$."
   ]
  },
  {
   "cell_type": "markdown",
   "metadata": {
    "jupyter": {
     "source_hidden": true
    }
   },
   "source": [
    "$$ I_o = \\frac{mgl}{4\\pi^2} T^2  $$"
   ]
  },
  {
   "cell_type": "markdown",
   "metadata": {},
   "source": [
    "*write solution here*"
   ]
  },
  {
   "cell_type": "markdown",
   "metadata": {
    "solution2": "hidden",
    "solution2_first": true
   },
   "source": [
    "**Exercise**\n",
    "\n",
    "Finally, using the period of oscillation, $T$, from the data above, you can compute the inertia about the joint using this relationship:\n",
    "\n",
    "Store the result of this calculation in a variable called `actual_inertia_about_the_joint`."
   ]
  },
  {
   "cell_type": "code",
   "execution_count": null,
   "metadata": {},
   "outputs": [],
   "source": [
    "# write your solution here"
   ]
  },
  {
   "cell_type": "code",
   "execution_count": null,
   "metadata": {
    "jupyter": {
     "source_hidden": true
    },
    "solution2": "hidden"
   },
   "outputs": [],
   "source": [
    "actual_inertia_about_joint = freq2period(popt[2])**2 / 4/ np.pi**2 * mass * 9.81 * 0.296\n",
    "actual_inertia_about_joint"
   ]
  },
  {
   "cell_type": "markdown",
   "metadata": {
    "solution2": "hidden",
    "solution2_first": true
   },
   "source": [
    "**Exercise**\n",
    "\n",
    "Use the parallel axis thereom to find the moment of inertia about the axle (the location of the center of mass) and store it in a variable called `actual_inertia_about_axle`. How does this compare to the initial guess of $I_c=mr^2$?"
   ]
  },
  {
   "cell_type": "code",
   "execution_count": null,
   "metadata": {
    "jupyter": {
     "source_hidden": true
    },
    "solution2": "hidden"
   },
   "outputs": [],
   "source": [
    "actual_inertia_about_axle = actual_inertia_about_joint - mass * 0.296**2\n",
    "actual_inertia_about_axle"
   ]
  },
  {
   "cell_type": "code",
   "execution_count": null,
   "metadata": {},
   "outputs": [],
   "source": [
    "# write your answer here"
   ]
  },
  {
   "cell_type": "markdown",
   "metadata": {},
   "source": [
    "# Center of Percussion\n",
    "\n",
    "The [center of percussion](https://en.wikipedia.org/wiki/Center_of_percussion) of a compound pendulum is described as the location on the pendulum that exhibits zero translational acceleration at the pivot joint when an impulse is applied. This corresponds to the length of a simple pendulum of the same mass which has the same frequency of oscillation. \n",
    "\n",
    "The baseball bat: https://physics.csuchico.edu/baseball/DrBaseball/SweetSpot/\n",
    "\n",
    "The following video demonstrates the principle:"
   ]
  },
  {
   "cell_type": "code",
   "execution_count": null,
   "metadata": {},
   "outputs": [],
   "source": [
    "YouTubeVideo('Dw3UpKQVhVY', width=640, height=480)"
   ]
  },
  {
   "cell_type": "markdown",
   "metadata": {},
   "source": [
    " Using a `SimplePendulumSystem` we can simulate it alongside the compound pendulum to determine the center of percussion."
   ]
  },
  {
   "cell_type": "code",
   "execution_count": null,
   "metadata": {},
   "outputs": [],
   "source": [
    "from resonance.linear_systems import SimplePendulumSystem\n",
    "spend_sys = SimplePendulumSystem()"
   ]
  },
  {
   "cell_type": "code",
   "execution_count": null,
   "metadata": {},
   "outputs": [],
   "source": [
    "spend_sys.constants"
   ]
  },
  {
   "cell_type": "code",
   "execution_count": null,
   "metadata": {},
   "outputs": [],
   "source": [
    "spend_sys.constants['acc_due_to_gravity'] = 9.81\n",
    "spend_sys.constants['pendulum_mass'] = 1.55\n",
    "spend_sys.constants['pendulum_length'] = 0.3\n",
    "spend_sys.speeds['angle_vel'] = axial_gyro_meas.loc[0.0]['angular_velocity']"
   ]
  },
  {
   "cell_type": "code",
   "execution_count": null,
   "metadata": {},
   "outputs": [],
   "source": [
    "spend_traj = spend_sys.free_response(5)"
   ]
  },
  {
   "cell_type": "code",
   "execution_count": null,
   "metadata": {},
   "outputs": [],
   "source": [
    "cpend_sys.constants['inertia_about_joint'] = actual_inertia_about_joint\n",
    "cpend_traj = cpend_sys.free_response(5)"
   ]
  },
  {
   "cell_type": "code",
   "execution_count": null,
   "metadata": {},
   "outputs": [],
   "source": [
    "fig, ax = plt.subplots(1, 1)\n",
    "\n",
    "ax.plot(cpend_traj.index, cpend_traj.angle, label='compound')\n",
    "lines = ax.plot(spend_traj.index, spend_traj.angle, label='simple')\n",
    "\n",
    "ax.legend()\n",
    "\n",
    "def plot(pend_length=0.3):\n",
    "    spend_sys.constants['pendulum_length'] = pend_length\n",
    "    spend_traj = spend_sys.free_response(5)\n",
    "    lines[0].set_data(spend_traj.index, spend_traj.angle)\n",
    "plot()"
   ]
  },
  {
   "cell_type": "code",
   "execution_count": null,
   "metadata": {},
   "outputs": [],
   "source": [
    "interact(plot, pend_length=(0, 1.0, 0.01));"
   ]
  }
 ],
 "metadata": {
  "kernelspec": {
   "display_name": "Python 3",
   "language": "python",
   "name": "python3"
  },
  "language_info": {
   "codemirror_mode": {
    "name": "ipython",
    "version": 3
   },
   "file_extension": ".py",
   "mimetype": "text/x-python",
   "name": "python",
   "nbconvert_exporter": "python",
   "pygments_lexer": "ipython3",
   "version": "3.6.7"
  }
 },
 "nbformat": 4,
 "nbformat_minor": 4
}
